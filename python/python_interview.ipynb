{
 "cells": [
  {
   "cell_type": "markdown",
   "metadata": {},
   "source": [
    "![](ultracom.png)"
   ]
  },
  {
   "cell_type": "markdown",
   "metadata": {},
   "source": [
    "# Welcome to Ultracom programming test\n",
    "\n",
    "This test is meant to be a live coding programming test to assess your logic, problem-solving and python programming skills.\n",
    "If you feel comfortable with a programming language different from python, feel free to use it to solve the proposed problems.\n",
    "\n",
    "Try to be calmed walk the interviewer through your strategy to solve the problem.\n",
    "\n",
    "__We wish you luck!__"
   ]
  },
  {
   "cell_type": "markdown",
   "metadata": {
    "pycharm": {
     "name": "#%% md\n"
    }
   },
   "source": [
    "# Problem 1\n",
    "Write a function that returns the elements at odd positions in a list.\n",
    "'None' elements must be discarded first\n",
    "\n",
    "Example:\n",
    "\n",
    "<br>```odd([1,2,3,4,5,6,7,8]) = [2,4,6,8]```\n",
    "<br>```odd([0,1,2,3,4,5,6,7,8]) = [1,3,5,7]```\n",
    "<br>```odd([]) = []```\n",
    "<br>```odd([None, None, None]) = []```\n",
    "<br>```odd([None,1,2,3,4,5,6,7,8]) = [2,4,6,8]```"
   ]
  },
  {
   "cell_type": "code",
   "execution_count": null,
   "metadata": {},
   "outputs": [],
   "source": [
    "# write your code here\n"
   ]
  },
  {
   "cell_type": "markdown",
   "metadata": {
    "pycharm": {
     "name": "#%% md\n"
    }
   },
   "source": [
    "# Problem 2\n",
    "Write a function that combines two lists by alternatingly taking elements.\n",
    "\n",
    "Example:\n",
    "<br>```alternate([a,b,c], [1,2,3]) = [a,1,b,2,c,3]```\n",
    "<br>```alternate([1,3,5], [2,4,6]) = [1,2,3,4,5,6]```\n",
    "<br>```alternate([1,2,3], [4,5,6]) = [1,4,3,5,3,6]```"
   ]
  },
  {
   "cell_type": "code",
   "execution_count": null,
   "metadata": {
    "pycharm": {
     "name": "#%%\n"
    }
   },
   "outputs": [],
   "source": [
    "# write your code here\n"
   ]
  },
  {
   "cell_type": "markdown",
   "metadata": {},
   "source": [
    "## Problem 3\n",
    "Given the fibonacci series, implement an algorithm to generate the n-th fibonacci number\n",
    "\n",
    "fibonacci def:\n",
    "<br>fib(n) = fib(n-1)+fib(n-2) when n>=2\n",
    "<br>fib(1) = fib(0) = 1\n",
    "\n",
    "Example:\n",
    "\n",
    "<br>```fib(-1) = Error```\n",
    "<br>```fib(0) = 1```\n",
    "<br>```fib(1) = 1```\n",
    "<br>```fib(2) = 2```\n",
    "<br>```fib(3) = 3```\n",
    "<br>```fib(4) = 5```"
   ]
  },
  {
   "cell_type": "code",
   "execution_count": null,
   "metadata": {},
   "outputs": [],
   "source": [
    "# your code here\n"
   ]
  },
  {
   "cell_type": "markdown",
   "metadata": {},
   "source": [
    "## Problem 4\n",
    "\n",
    "given an unsorted array of unique numbers write and algorithm to sort it\n",
    "\n",
    "example:\n",
    "\n",
    "<br>```sort([100,3, 25, 6, 13, 7, 11, 10, 15, 50,]) = [3, 6, 7, 10, 11, 13, 15, 50, 100]```\n",
    "<br>```sort([3, 6, 7, 10, 11, 13, 15, 50, 100]) = [3, 6, 7, 10, 11, 13, 15, 50, 100]```"
   ]
  },
  {
   "cell_type": "code",
   "execution_count": null,
   "metadata": {},
   "outputs": [],
   "source": [
    "# your code here\n"
   ]
  },
  {
   "cell_type": "markdown",
   "metadata": {},
   "source": [
    "## Problem 5\n",
    "\n",
    "__palindrome__: is sequence of characters that reads the same backwards as forwards\n",
    "\n",
    "write an algorithm that detects if a given sequence of characters is a palindrome\n",
    "\n",
    "example:\n",
    "<br>```palindrome('Kayak') = True```\n",
    "<br>```palindrome('level') = True```\n",
    "<br>```palindrome('plain') = False```"
   ]
  },
  {
   "cell_type": "code",
   "execution_count": null,
   "metadata": {},
   "outputs": [],
   "source": [
    "# your code here\n"
   ]
  },
  {
   "cell_type": "markdown",
   "metadata": {},
   "source": [
    "## Problem 6\n",
    "\n",
    "Given an unsorted list of integers with repeated values, delete the repeated values from it in a new list.\n",
    "It is not necessary to sort the output list, nevertheless, in below examples output is sorted.\n",
    "\n",
    "example:\n",
    "<br>```drop_duplicates([1,3,5,7,15,3,12,10,5,20,10,5]) = [1, 3, 5, 7, 10, 12, 15, 20]```\n",
    "<br>```drop_duplicates([1,3,5,7,15,12,10,20]) = [1, 3, 5, 7, 10, 12, 15, 20]```\n",
    "<br>```drop_duplicates([1,3,5,7,15,3,12,10,5,20,None,5]) = [1, 3, 5, 7, 10, 12, 15, 20]```\n",
    "<br>```drop_duplicates([]) = []```\n",
    "<br>```drop_duplicates([None, None, None]) = []```"
   ]
  },
  {
   "cell_type": "code",
   "execution_count": null,
   "metadata": {},
   "outputs": [],
   "source": [
    "# your code here\n"
   ]
  },
  {
   "cell_type": "markdown",
   "metadata": {},
   "source": [
    "## Problem 7\n",
    "\n",
    "Write an algorithm to find a given word in a given string, and return the exact word as found in the string\n",
    "\n",
    "example:\n",
    "<br>```find_word('this is a test', 'test') = test```\n",
    "<br>```find_word('This Is a Test', 'test') = Test```\n",
    "<br>```find_word('tHiS iS a TeSt', 'Test') = TeSt```\n",
    "<br>```find_word('tHiS iS a TeSt', 'plain') = False```"
   ]
  },
  {
   "cell_type": "code",
   "execution_count": null,
   "metadata": {},
   "outputs": [],
   "source": [
    "# your code here\n"
   ]
  }
 ],
 "metadata": {
  "kernelspec": {
   "display_name": "Python 3",
   "language": "python",
   "name": "python3"
  },
  "language_info": {
   "codemirror_mode": {
    "name": "ipython",
    "version": 3
   },
   "file_extension": ".py",
   "mimetype": "text/x-python",
   "name": "python",
   "nbconvert_exporter": "python",
   "pygments_lexer": "ipython3",
   "version": "3.7.6"
  }
 },
 "nbformat": 4,
 "nbformat_minor": 4
}
